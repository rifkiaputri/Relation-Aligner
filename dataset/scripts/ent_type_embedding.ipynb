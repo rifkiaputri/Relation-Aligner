{
 "cells": [
  {
   "cell_type": "code",
   "execution_count": 13,
   "metadata": {},
   "outputs": [],
   "source": [
    "import pickle\n",
    "import pandas as pd"
   ]
  },
  {
   "cell_type": "code",
   "execution_count": 2,
   "metadata": {},
   "outputs": [],
   "source": [
    "with open('../../dutta/entity_type.pickle', 'rb') as file:\n",
    "    entity_type = pickle.load(file)"
   ]
  },
  {
   "cell_type": "code",
   "execution_count": 4,
   "metadata": {},
   "outputs": [
    {
     "data": {
      "text/plain": [
       "47294597"
      ]
     },
     "execution_count": 4,
     "metadata": {},
     "output_type": "execute_result"
    }
   ],
   "source": [
    "len(entity_type)"
   ]
  },
  {
   "cell_type": "code",
   "execution_count": 11,
   "metadata": {},
   "outputs": [
    {
     "data": {
      "text/plain": [
       "47294597"
      ]
     },
     "execution_count": 11,
     "metadata": {},
     "output_type": "execute_result"
    }
   ],
   "source": [
    "len(entity_type.values())"
   ]
  },
  {
   "cell_type": "code",
   "execution_count": 12,
   "metadata": {},
   "outputs": [
    {
     "data": {
      "text/plain": [
       "47294597"
      ]
     },
     "execution_count": 12,
     "metadata": {},
     "output_type": "execute_result"
    }
   ],
   "source": [
    "len(entity_type.keys())"
   ]
  },
  {
   "cell_type": "code",
   "execution_count": 18,
   "metadata": {},
   "outputs": [],
   "source": [
    "type_df = pd.DataFrame()\n",
    "type_df['qid'] = entity_type.keys()\n",
    "type_df['type'] = entity_type.values()"
   ]
  },
  {
   "cell_type": "code",
   "execution_count": 20,
   "metadata": {},
   "outputs": [],
   "source": [
    "type_df = type_df.astype(str)"
   ]
  },
  {
   "cell_type": "code",
   "execution_count": 21,
   "metadata": {
    "scrolled": true
   },
   "outputs": [
    {
     "data": {
      "text/html": [
       "<div>\n",
       "<style scoped>\n",
       "    .dataframe tbody tr th:only-of-type {\n",
       "        vertical-align: middle;\n",
       "    }\n",
       "\n",
       "    .dataframe tbody tr th {\n",
       "        vertical-align: top;\n",
       "    }\n",
       "\n",
       "    .dataframe thead th {\n",
       "        text-align: right;\n",
       "    }\n",
       "</style>\n",
       "<table border=\"1\" class=\"dataframe\">\n",
       "  <thead>\n",
       "    <tr style=\"text-align: right;\">\n",
       "      <th></th>\n",
       "      <th>qid</th>\n",
       "      <th>type</th>\n",
       "    </tr>\n",
       "  </thead>\n",
       "  <tbody>\n",
       "    <tr>\n",
       "      <th>0</th>\n",
       "      <td>Q5688836</td>\n",
       "      <td>b'television series'</td>\n",
       "    </tr>\n",
       "    <tr>\n",
       "      <th>1</th>\n",
       "      <td>Q5688837</td>\n",
       "      <td>b'solar eclipse'</td>\n",
       "    </tr>\n",
       "    <tr>\n",
       "      <th>2</th>\n",
       "      <td>Q5688847</td>\n",
       "      <td>b'solar eclipse'</td>\n",
       "    </tr>\n",
       "    <tr>\n",
       "      <th>3</th>\n",
       "      <td>Q5688849</td>\n",
       "      <td>b'single'</td>\n",
       "    </tr>\n",
       "    <tr>\n",
       "      <th>4</th>\n",
       "      <td>Q5688853</td>\n",
       "      <td>b'human'</td>\n",
       "    </tr>\n",
       "    <tr>\n",
       "      <th>5</th>\n",
       "      <td>Q5688861</td>\n",
       "      <td>b'solar eclipse'</td>\n",
       "    </tr>\n",
       "    <tr>\n",
       "      <th>6</th>\n",
       "      <td>Q5688873</td>\n",
       "      <td>b'painting'</td>\n",
       "    </tr>\n",
       "    <tr>\n",
       "      <th>7</th>\n",
       "      <td>Q5688878</td>\n",
       "      <td>b'solar eclipse'</td>\n",
       "    </tr>\n",
       "    <tr>\n",
       "      <th>8</th>\n",
       "      <td>Q5688885</td>\n",
       "      <td>b'album'</td>\n",
       "    </tr>\n",
       "    <tr>\n",
       "      <th>9</th>\n",
       "      <td>Q5688892</td>\n",
       "      <td>b'solar eclipse'</td>\n",
       "    </tr>\n",
       "    <tr>\n",
       "      <th>10</th>\n",
       "      <td>Q5688895</td>\n",
       "      <td>b'solar eclipse'</td>\n",
       "    </tr>\n",
       "    <tr>\n",
       "      <th>11</th>\n",
       "      <td>Q5688912</td>\n",
       "      <td>b'solar eclipse'</td>\n",
       "    </tr>\n",
       "    <tr>\n",
       "      <th>12</th>\n",
       "      <td>Q5688913</td>\n",
       "      <td>b'solar eclipse'</td>\n",
       "    </tr>\n",
       "    <tr>\n",
       "      <th>13</th>\n",
       "      <td>Q5688918</td>\n",
       "      <td>b'compilation album'</td>\n",
       "    </tr>\n",
       "    <tr>\n",
       "      <th>14</th>\n",
       "      <td>Q5688924</td>\n",
       "      <td>b'solar eclipse'</td>\n",
       "    </tr>\n",
       "    <tr>\n",
       "      <th>15</th>\n",
       "      <td>Q5688925</td>\n",
       "      <td>b'Wikimedia disambiguation page'</td>\n",
       "    </tr>\n",
       "    <tr>\n",
       "      <th>16</th>\n",
       "      <td>Q5688929</td>\n",
       "      <td>b'television program'</td>\n",
       "    </tr>\n",
       "    <tr>\n",
       "      <th>17</th>\n",
       "      <td>Q5688935</td>\n",
       "      <td>b'television series episode'</td>\n",
       "    </tr>\n",
       "    <tr>\n",
       "      <th>18</th>\n",
       "      <td>Q5688937</td>\n",
       "      <td>b'solar eclipse'</td>\n",
       "    </tr>\n",
       "    <tr>\n",
       "      <th>19</th>\n",
       "      <td>Q5688938</td>\n",
       "      <td>b'film'</td>\n",
       "    </tr>\n",
       "    <tr>\n",
       "      <th>20</th>\n",
       "      <td>Q5688951</td>\n",
       "      <td>b'television series episode'</td>\n",
       "    </tr>\n",
       "    <tr>\n",
       "      <th>21</th>\n",
       "      <td>Q5688955</td>\n",
       "      <td>b'human'</td>\n",
       "    </tr>\n",
       "    <tr>\n",
       "      <th>22</th>\n",
       "      <td>Q5688963</td>\n",
       "      <td>b'book'</td>\n",
       "    </tr>\n",
       "    <tr>\n",
       "      <th>23</th>\n",
       "      <td>Q5688986</td>\n",
       "      <td>b'solar eclipse'</td>\n",
       "    </tr>\n",
       "    <tr>\n",
       "      <th>24</th>\n",
       "      <td>Q5688990</td>\n",
       "      <td>b'solar eclipse'</td>\n",
       "    </tr>\n",
       "    <tr>\n",
       "      <th>25</th>\n",
       "      <td>Q5689000</td>\n",
       "      <td>b'solar eclipse'</td>\n",
       "    </tr>\n",
       "    <tr>\n",
       "      <th>26</th>\n",
       "      <td>Q5689010</td>\n",
       "      <td>b'solar eclipse'</td>\n",
       "    </tr>\n",
       "    <tr>\n",
       "      <th>27</th>\n",
       "      <td>Q5689016</td>\n",
       "      <td>b'human'</td>\n",
       "    </tr>\n",
       "    <tr>\n",
       "      <th>28</th>\n",
       "      <td>Q5689111</td>\n",
       "      <td>b'extended play'</td>\n",
       "    </tr>\n",
       "    <tr>\n",
       "      <th>29</th>\n",
       "      <td>Q5689116</td>\n",
       "      <td>b'solar eclipse'</td>\n",
       "    </tr>\n",
       "    <tr>\n",
       "      <th>...</th>\n",
       "      <td>...</td>\n",
       "      <td>...</td>\n",
       "    </tr>\n",
       "    <tr>\n",
       "      <th>47294567</th>\n",
       "      <td>Q918448</td>\n",
       "      <td>-</td>\n",
       "    </tr>\n",
       "    <tr>\n",
       "      <th>47294568</th>\n",
       "      <td>Q440991</td>\n",
       "      <td>-</td>\n",
       "    </tr>\n",
       "    <tr>\n",
       "      <th>47294569</th>\n",
       "      <td>Q333130</td>\n",
       "      <td>-</td>\n",
       "    </tr>\n",
       "    <tr>\n",
       "      <th>47294570</th>\n",
       "      <td>Q18110151</td>\n",
       "      <td>-</td>\n",
       "    </tr>\n",
       "    <tr>\n",
       "      <th>47294571</th>\n",
       "      <td>Q18170994</td>\n",
       "      <td>-</td>\n",
       "    </tr>\n",
       "    <tr>\n",
       "      <th>47294572</th>\n",
       "      <td>Q27616433</td>\n",
       "      <td>-</td>\n",
       "    </tr>\n",
       "    <tr>\n",
       "      <th>47294573</th>\n",
       "      <td>Q4758632</td>\n",
       "      <td>-</td>\n",
       "    </tr>\n",
       "    <tr>\n",
       "      <th>47294574</th>\n",
       "      <td>Q247574</td>\n",
       "      <td>-</td>\n",
       "    </tr>\n",
       "    <tr>\n",
       "      <th>47294575</th>\n",
       "      <td>Q1468175</td>\n",
       "      <td>-</td>\n",
       "    </tr>\n",
       "    <tr>\n",
       "      <th>47294576</th>\n",
       "      <td>Q16252860</td>\n",
       "      <td>-</td>\n",
       "    </tr>\n",
       "    <tr>\n",
       "      <th>47294577</th>\n",
       "      <td>Q7233235</td>\n",
       "      <td>-</td>\n",
       "    </tr>\n",
       "    <tr>\n",
       "      <th>47294578</th>\n",
       "      <td>Q16895200</td>\n",
       "      <td>-</td>\n",
       "    </tr>\n",
       "    <tr>\n",
       "      <th>47294579</th>\n",
       "      <td>Q458304</td>\n",
       "      <td>-</td>\n",
       "    </tr>\n",
       "    <tr>\n",
       "      <th>47294580</th>\n",
       "      <td>Q2714542</td>\n",
       "      <td>-</td>\n",
       "    </tr>\n",
       "    <tr>\n",
       "      <th>47294581</th>\n",
       "      <td>Q1191869</td>\n",
       "      <td>-</td>\n",
       "    </tr>\n",
       "    <tr>\n",
       "      <th>47294582</th>\n",
       "      <td>Q5594001</td>\n",
       "      <td>-</td>\n",
       "    </tr>\n",
       "    <tr>\n",
       "      <th>47294583</th>\n",
       "      <td>Q1187518</td>\n",
       "      <td>-</td>\n",
       "    </tr>\n",
       "    <tr>\n",
       "      <th>47294584</th>\n",
       "      <td>Q7157064</td>\n",
       "      <td>-</td>\n",
       "    </tr>\n",
       "    <tr>\n",
       "      <th>47294585</th>\n",
       "      <td>Q19022408</td>\n",
       "      <td>-</td>\n",
       "    </tr>\n",
       "    <tr>\n",
       "      <th>47294586</th>\n",
       "      <td>Q1404061</td>\n",
       "      <td>-</td>\n",
       "    </tr>\n",
       "    <tr>\n",
       "      <th>47294587</th>\n",
       "      <td>Q43173</td>\n",
       "      <td>-</td>\n",
       "    </tr>\n",
       "    <tr>\n",
       "      <th>47294588</th>\n",
       "      <td>Q5190170</td>\n",
       "      <td>-</td>\n",
       "    </tr>\n",
       "    <tr>\n",
       "      <th>47294589</th>\n",
       "      <td>Q1515524</td>\n",
       "      <td>-</td>\n",
       "    </tr>\n",
       "    <tr>\n",
       "      <th>47294590</th>\n",
       "      <td>Q24886846</td>\n",
       "      <td>-</td>\n",
       "    </tr>\n",
       "    <tr>\n",
       "      <th>47294591</th>\n",
       "      <td>Q7247985</td>\n",
       "      <td>-</td>\n",
       "    </tr>\n",
       "    <tr>\n",
       "      <th>47294592</th>\n",
       "      <td>Q979217</td>\n",
       "      <td>-</td>\n",
       "    </tr>\n",
       "    <tr>\n",
       "      <th>47294593</th>\n",
       "      <td>Q626368</td>\n",
       "      <td>-</td>\n",
       "    </tr>\n",
       "    <tr>\n",
       "      <th>47294594</th>\n",
       "      <td>Q5510883</td>\n",
       "      <td>-</td>\n",
       "    </tr>\n",
       "    <tr>\n",
       "      <th>47294595</th>\n",
       "      <td>Q5124643</td>\n",
       "      <td>-</td>\n",
       "    </tr>\n",
       "    <tr>\n",
       "      <th>47294596</th>\n",
       "      <td>Q25039503</td>\n",
       "      <td>-</td>\n",
       "    </tr>\n",
       "  </tbody>\n",
       "</table>\n",
       "<p>47294597 rows × 2 columns</p>\n",
       "</div>"
      ],
      "text/plain": [
       "                qid                              type\n",
       "0          Q5688836              b'television series'\n",
       "1          Q5688837                  b'solar eclipse'\n",
       "2          Q5688847                  b'solar eclipse'\n",
       "3          Q5688849                         b'single'\n",
       "4          Q5688853                          b'human'\n",
       "5          Q5688861                  b'solar eclipse'\n",
       "6          Q5688873                       b'painting'\n",
       "7          Q5688878                  b'solar eclipse'\n",
       "8          Q5688885                          b'album'\n",
       "9          Q5688892                  b'solar eclipse'\n",
       "10         Q5688895                  b'solar eclipse'\n",
       "11         Q5688912                  b'solar eclipse'\n",
       "12         Q5688913                  b'solar eclipse'\n",
       "13         Q5688918              b'compilation album'\n",
       "14         Q5688924                  b'solar eclipse'\n",
       "15         Q5688925  b'Wikimedia disambiguation page'\n",
       "16         Q5688929             b'television program'\n",
       "17         Q5688935      b'television series episode'\n",
       "18         Q5688937                  b'solar eclipse'\n",
       "19         Q5688938                           b'film'\n",
       "20         Q5688951      b'television series episode'\n",
       "21         Q5688955                          b'human'\n",
       "22         Q5688963                           b'book'\n",
       "23         Q5688986                  b'solar eclipse'\n",
       "24         Q5688990                  b'solar eclipse'\n",
       "25         Q5689000                  b'solar eclipse'\n",
       "26         Q5689010                  b'solar eclipse'\n",
       "27         Q5689016                          b'human'\n",
       "28         Q5689111                  b'extended play'\n",
       "29         Q5689116                  b'solar eclipse'\n",
       "...             ...                               ...\n",
       "47294567    Q918448                                 -\n",
       "47294568    Q440991                                 -\n",
       "47294569    Q333130                                 -\n",
       "47294570  Q18110151                                 -\n",
       "47294571  Q18170994                                 -\n",
       "47294572  Q27616433                                 -\n",
       "47294573   Q4758632                                 -\n",
       "47294574    Q247574                                 -\n",
       "47294575   Q1468175                                 -\n",
       "47294576  Q16252860                                 -\n",
       "47294577   Q7233235                                 -\n",
       "47294578  Q16895200                                 -\n",
       "47294579    Q458304                                 -\n",
       "47294580   Q2714542                                 -\n",
       "47294581   Q1191869                                 -\n",
       "47294582   Q5594001                                 -\n",
       "47294583   Q1187518                                 -\n",
       "47294584   Q7157064                                 -\n",
       "47294585  Q19022408                                 -\n",
       "47294586   Q1404061                                 -\n",
       "47294587     Q43173                                 -\n",
       "47294588   Q5190170                                 -\n",
       "47294589   Q1515524                                 -\n",
       "47294590  Q24886846                                 -\n",
       "47294591   Q7247985                                 -\n",
       "47294592    Q979217                                 -\n",
       "47294593    Q626368                                 -\n",
       "47294594   Q5510883                                 -\n",
       "47294595   Q5124643                                 -\n",
       "47294596  Q25039503                                 -\n",
       "\n",
       "[47294597 rows x 2 columns]"
      ]
     },
     "execution_count": 21,
     "metadata": {},
     "output_type": "execute_result"
    }
   ],
   "source": [
    "type_df"
   ]
  },
  {
   "cell_type": "code",
   "execution_count": 16,
   "metadata": {},
   "outputs": [],
   "source": [
    "type_df_grouped = type_df.groupby(['type']).size()"
   ]
  },
  {
   "cell_type": "code",
   "execution_count": 17,
   "metadata": {},
   "outputs": [
    {
     "data": {
      "text/plain": [
       "type\n",
       "b'\"I Want\" song'                                                                                                                                                                                                    1\n",
       "b'\"mixed union\"'                                                                                                                                                                                                   42\n",
       "b\"''glorieta''\"                                                                                                                                                                                                     1\n",
       "b\"'Hyposmochoma'\"                                                                                                                                                                                                  62\n",
       "b\"'Ndrina\"                                                                                                                                                                                                        116\n",
       "b\"'de novo' posttranslational protein folding\"                                                                                                                                                                      1\n",
       "b'(+)-1,2-diaminocyclohexane'                                                                                                                                                                                       2\n",
       "b'(+)ssRNA virus infectious disease'                                                                                                                                                                                7\n",
       "b'(+/-)-5-fluoro-amp'                                                                                                                                                                                               1\n",
       "b'(+/-)-hydroxybupropion'                                                                                                                                                                                           1\n",
       "b'(+/-)-israpafant'                                                                                                                                                                                                 1\n",
       "b'(-)ssRNA virus infectious disease'                                                                                                                                                                                5\n",
       "b'(0,1,-1)-matrix'                                                                                                                                                                                                  3\n",
       "b'(2E)-1-chloro-2-butene'                                                                                                                                                                                           1\n",
       "b'(3S,8R,9S,10S,13R,14S,17R)-17-[(2R)-5-ethyl-6-methylheptan-2-yl]-10,13-dimethyl-2,3,4,5,6,7,8,9,11,12,14,15,16,17-tetradecahydro-1H-cyclopenta[a]phenanthren-3-ol'                                                1\n",
       "b'(3S,8R,9S,10S,13R,14S,17R)-17-[(2R,5R)-5-ethyl-6-methylheptan-2-yl]-10,13-dimethyl-2,3,4,5,6,7,8,9,11,12,14,15,16,17-tetradecahydro-1H-cyclopenta[a]phenanthren-3-ol'                                             1\n",
       "b'(RS)-2,4,5-trimethoxyamphetamine'                                                                                                                                                                                 1\n",
       "b'(RS)-5-diphosphomevalonate'                                                                                                                                                                                       1\n",
       "b'(RS)-coclaurine'                                                                                                                                                                                                  1\n",
       "b'(RS)-nornicotine'                                                                                                                                                                                                 2\n",
       "b'(S)-[(2R,5R)-5-ethenyl-1-azabicyclo[2.2.2]octan-2-yl]-quinolin-4-ylmethanol'                                                                                                                                      1\n",
       "b'(a,b)-tree'                                                                                                                                                                                                       1\n",
       "b'(commodity) exchange building'                                                                                                                                                                                    5\n",
       "b'(\\xc2\\xb1)-limonene'                                                                                                                                                                                              2\n",
       "b'(\\xc2\\xb1)-pisatin'                                                                                                                                                                                               2\n",
       "b'(\\xe2\\x88\\x92)-7,7-Dimethyl-2-methylenebicyclo[2.2.1]heptane'                                                                                                                                                     2\n",
       "b'*-algebra'                                                                                                                                                                                                        1\n",
       "b'-Modem, Router, Switch, Repeater'                                                                                                                                                                                 2\n",
       "b'-ism'                                                                                                                                                                                                             2\n",
       "b'0'                                                                                                                                                                                                                1\n",
       "                                                                                                                                                                                                                 ... \n",
       "b'\\xc5\\x8cke'                                                                                                                                                                                                       1\n",
       "b'\\xc5\\x8daza'                                                                                                                                                                                                     19\n",
       "b'\\xc5\\x9eehriye'                                                                                                                                                                                                   2\n",
       "b'\\xc5\\x9f\\xc9\\x99h\\xc9\\x99r'                                                                                                                                                                                       8\n",
       "b'\\xc5\\xbdupa'                                                                                                                                                                                                      4\n",
       "b'\\xc8\\x9binut'                                                                                                                                                                                                    10\n",
       "b'\\xce\\xb1-phellandrene'                                                                                                                                                                                            2\n",
       "b'\\xce\\xb2-fergusonite mineral group'                                                                                                                                                                               3\n",
       "b'\\xce\\xb2-ionone'                                                                                                                                                                                                  1\n",
       "b'\\xce\\xb2-lactam'                                                                                                                                                                                                  1\n",
       "b'\\xd0\\x81'                                                                                                                                                                                                         1\n",
       "b'\\xd0\\xb0rabic literature'                                                                                                                                                                                         1\n",
       "b'\\xd1\\x81apacity of a set'                                                                                                                                                                                         2\n",
       "b\"\\xd1\\x81hildren's art school\"                                                                                                                                                                                    17\n",
       "b'\\xd1\\x81hurch college'                                                                                                                                                                                           37\n",
       "b'\\xd1\\x81ollection of fairy tales'                                                                                                                                                                                 6\n",
       "b'\\xd1\\x81ollegium'                                                                                                                                                                                                16\n",
       "b'\\xd1\\x81ubic surface'                                                                                                                                                                                             2\n",
       "b'\\xd1\\x96\\xd0\\xbd\\xd0\\xbe\\xd0\\xb7\\xd0\\xb5\\xd0\\xbc\\xd0\\xbd\\xd1\\x96 \\xd0\\xba\\xd0\\xbb\\xd0\\xb0\\xd0\\xb4\\xd0\\xbe\\xd0\\xb2\\xd0\\xb8\\xd1\\x89\\xd0\\xb0 \\xd0\\xb2 \\xd0\\xa3\\xd0\\xba\\xd1\\x80\\xd0\\xb0\\xd1\\x97\\xd0\\xbd\\xd1\\x96'     15\n",
       "b'\\xd8\\xa7\\xd8\\xb1\\xda\\xaf'                                                                                                                                                                                        15\n",
       "b'\\xd8\\xa7\\xd9\\x84\\xd9\\x80\\xd8\\xb9\\xd9\\x80\\xd8\\xb1\\xd8\\xa8\\xd9\\x80\\xd9\\x8a\\xd9\\x80\\xd8\\xa9'                                                                                                                         1\n",
       "b'\\xd8\\xa8\\xd9\\x86\\xd8\\xaf'                                                                                                                                                                                        26\n",
       "b'\\xd8\\xb3\\xdb\\x8c\\xd8\\xb1\\xd8\\xaa \\xd9\\x86\\xda\\xaf\\xd8\\xa7\\xd8\\xb1'                                                                                                                                                1\n",
       "b'\\xd8\\xb4'                                                                                                                                                                                                         1\n",
       "b'\\xd9\\x88\\xdb\\x8c\\xda\\xa9\\xdb\\x8c\\xe2\\x80\\x8c\\xd9\\xbe\\xd8\\xaf\\xdb\\x8c\\xd8\\xa7:\\xd9\\x86\\xd8\\xb8\\xd8\\xb1\\xd8\\xae\\xd9\\x88\\xd8\\xa7\\xd9\\x87\\xdb\\x8c'                                                                    1\n",
       "b'\\xda\\x86\\xd9\\x87\\xd8\\xa7\\xd8\\xb1\\xd8\\xb3\\xd9\\x88\\xd9\\x82'                                                                                                                                                         4\n",
       "b'\\xe2\\x82\\xac2 commemorative coins'                                                                                                                                                                                1\n",
       "b'\\xe3\\x81\\x9f'                                                                                                                                                                                                     1\n",
       "b'\\xe3\\x85\\x87'                                                                                                                                                                                                     1\n",
       "-                                                                                                                                                                                                                 770\n",
       "Length: 64943, dtype: int64"
      ]
     },
     "execution_count": 17,
     "metadata": {},
     "output_type": "execute_result"
    }
   ],
   "source": [
    "type_df_grouped"
   ]
  },
  {
   "cell_type": "code",
   "execution_count": null,
   "metadata": {},
   "outputs": [],
   "source": []
  },
  {
   "cell_type": "code",
   "execution_count": 20,
   "metadata": {},
   "outputs": [],
   "source": [
    "import torch\n",
    "import torch.nn.functional as F"
   ]
  },
  {
   "cell_type": "code",
   "execution_count": 21,
   "metadata": {},
   "outputs": [],
   "source": [
    "a = torch.rand(2, 3, 4)\n",
    "b = torch.rand(2, 3, 6)\n",
    "a = F.pad(a, (0, b.size(2) - a.size(2)), 'constant', 0)"
   ]
  },
  {
   "cell_type": "code",
   "execution_count": 22,
   "metadata": {},
   "outputs": [],
   "source": [
    "test = F.relu(torch.bmm(a.view(2 * 3, 6, 1), b.view(2 * 3, 1, 6)))\n",
    "test = test.view(2, 3, 6, 6)\n",
    "test_t = test.transpose(3, 2)"
   ]
  },
  {
   "cell_type": "code",
   "execution_count": 23,
   "metadata": {},
   "outputs": [
    {
     "data": {
      "text/plain": [
       "torch.Size([2, 3, 6, 6])"
      ]
     },
     "execution_count": 23,
     "metadata": {},
     "output_type": "execute_result"
    }
   ],
   "source": [
    "test.size()"
   ]
  },
  {
   "cell_type": "code",
   "execution_count": 24,
   "metadata": {
    "scrolled": true
   },
   "outputs": [
    {
     "data": {
      "text/plain": [
       "tensor([[[[ 0.0076,  0.0087,  0.0073,  0.0073,  0.0222,  0.0226],\n",
       "          [ 0.0861,  0.0987,  0.0832,  0.0823,  0.2527,  0.2561],\n",
       "          [ 0.2294,  0.2630,  0.2217,  0.2194,  0.6731,  0.6823],\n",
       "          [ 0.2036,  0.2336,  0.1969,  0.1948,  0.5977,  0.6058],\n",
       "          [ 0.0000,  0.0000,  0.0000,  0.0000,  0.0000,  0.0000],\n",
       "          [ 0.0000,  0.0000,  0.0000,  0.0000,  0.0000,  0.0000]],\n",
       "\n",
       "         [[ 0.2902,  0.2949,  0.2045,  0.0052,  0.0314,  0.1245],\n",
       "          [ 0.2665,  0.2708,  0.1878,  0.0048,  0.0289,  0.1143],\n",
       "          [ 0.0831,  0.0844,  0.0585,  0.0015,  0.0090,  0.0356],\n",
       "          [ 0.0437,  0.0444,  0.0308,  0.0008,  0.0047,  0.0188],\n",
       "          [ 0.0000,  0.0000,  0.0000,  0.0000,  0.0000,  0.0000],\n",
       "          [ 0.0000,  0.0000,  0.0000,  0.0000,  0.0000,  0.0000]],\n",
       "\n",
       "         [[ 0.1357,  0.1701,  0.1658,  0.1997,  0.1577,  0.0478],\n",
       "          [ 0.5762,  0.7223,  0.7042,  0.8482,  0.6697,  0.2032],\n",
       "          [ 0.5095,  0.6387,  0.6227,  0.7500,  0.5922,  0.1797],\n",
       "          [ 0.1250,  0.1567,  0.1528,  0.1840,  0.1453,  0.0441],\n",
       "          [ 0.0000,  0.0000,  0.0000,  0.0000,  0.0000,  0.0000],\n",
       "          [ 0.0000,  0.0000,  0.0000,  0.0000,  0.0000,  0.0000]]],\n",
       "\n",
       "\n",
       "        [[[ 0.0085,  0.0023,  0.1265,  0.2777,  0.3243,  0.1547],\n",
       "          [ 0.0060,  0.0016,  0.0891,  0.1957,  0.2285,  0.1090],\n",
       "          [ 0.0028,  0.0008,  0.0420,  0.0922,  0.1077,  0.0514],\n",
       "          [ 0.0122,  0.0033,  0.1814,  0.3981,  0.4650,  0.2218],\n",
       "          [ 0.0000,  0.0000,  0.0000,  0.0000,  0.0000,  0.0000],\n",
       "          [ 0.0000,  0.0000,  0.0000,  0.0000,  0.0000,  0.0000]],\n",
       "\n",
       "         [[ 0.2253,  0.6720,  0.7861,  0.3217,  0.6227,  0.0347],\n",
       "          [ 0.1191,  0.3552,  0.4154,  0.1700,  0.3291,  0.0183],\n",
       "          [ 0.2592,  0.7731,  0.9043,  0.3700,  0.7163,  0.0399],\n",
       "          [ 0.0651,  0.1942,  0.2271,  0.0929,  0.1799,  0.0100],\n",
       "          [ 0.0000,  0.0000,  0.0000,  0.0000,  0.0000,  0.0000],\n",
       "          [ 0.0000,  0.0000,  0.0000,  0.0000,  0.0000,  0.0000]],\n",
       "\n",
       "         [[ 0.0067,  0.0005,  0.0029,  0.0036,  0.0091,  0.0166],\n",
       "          [ 0.3232,  0.0233,  0.1390,  0.1745,  0.4382,  0.8000],\n",
       "          [ 0.2817,  0.0203,  0.1212,  0.1521,  0.3819,  0.6972],\n",
       "          [ 0.0472,  0.0034,  0.0203,  0.0255,  0.0640,  0.1169],\n",
       "          [ 0.0000,  0.0000,  0.0000,  0.0000,  0.0000,  0.0000],\n",
       "          [ 0.0000,  0.0000,  0.0000,  0.0000,  0.0000,  0.0000]]]])"
      ]
     },
     "execution_count": 24,
     "metadata": {},
     "output_type": "execute_result"
    }
   ],
   "source": [
    "test"
   ]
  },
  {
   "cell_type": "code",
   "execution_count": 25,
   "metadata": {
    "scrolled": true
   },
   "outputs": [
    {
     "data": {
      "text/plain": [
       "tensor([[[[ 0.0076,  0.0861,  0.2294,  0.2036,  0.0000,  0.0000],\n",
       "          [ 0.0087,  0.0987,  0.2630,  0.2336,  0.0000,  0.0000],\n",
       "          [ 0.0073,  0.0832,  0.2217,  0.1969,  0.0000,  0.0000],\n",
       "          [ 0.0073,  0.0823,  0.2194,  0.1948,  0.0000,  0.0000],\n",
       "          [ 0.0222,  0.2527,  0.6731,  0.5977,  0.0000,  0.0000],\n",
       "          [ 0.0226,  0.2561,  0.6823,  0.6058,  0.0000,  0.0000]],\n",
       "\n",
       "         [[ 0.2902,  0.2665,  0.0831,  0.0437,  0.0000,  0.0000],\n",
       "          [ 0.2949,  0.2708,  0.0844,  0.0444,  0.0000,  0.0000],\n",
       "          [ 0.2045,  0.1878,  0.0585,  0.0308,  0.0000,  0.0000],\n",
       "          [ 0.0052,  0.0048,  0.0015,  0.0008,  0.0000,  0.0000],\n",
       "          [ 0.0314,  0.0289,  0.0090,  0.0047,  0.0000,  0.0000],\n",
       "          [ 0.1245,  0.1143,  0.0356,  0.0188,  0.0000,  0.0000]],\n",
       "\n",
       "         [[ 0.1357,  0.5762,  0.5095,  0.1250,  0.0000,  0.0000],\n",
       "          [ 0.1701,  0.7223,  0.6387,  0.1567,  0.0000,  0.0000],\n",
       "          [ 0.1658,  0.7042,  0.6227,  0.1528,  0.0000,  0.0000],\n",
       "          [ 0.1997,  0.8482,  0.7500,  0.1840,  0.0000,  0.0000],\n",
       "          [ 0.1577,  0.6697,  0.5922,  0.1453,  0.0000,  0.0000],\n",
       "          [ 0.0478,  0.2032,  0.1797,  0.0441,  0.0000,  0.0000]]],\n",
       "\n",
       "\n",
       "        [[[ 0.0085,  0.0060,  0.0028,  0.0122,  0.0000,  0.0000],\n",
       "          [ 0.0023,  0.0016,  0.0008,  0.0033,  0.0000,  0.0000],\n",
       "          [ 0.1265,  0.0891,  0.0420,  0.1814,  0.0000,  0.0000],\n",
       "          [ 0.2777,  0.1957,  0.0922,  0.3981,  0.0000,  0.0000],\n",
       "          [ 0.3243,  0.2285,  0.1077,  0.4650,  0.0000,  0.0000],\n",
       "          [ 0.1547,  0.1090,  0.0514,  0.2218,  0.0000,  0.0000]],\n",
       "\n",
       "         [[ 0.2253,  0.1191,  0.2592,  0.0651,  0.0000,  0.0000],\n",
       "          [ 0.6720,  0.3552,  0.7731,  0.1942,  0.0000,  0.0000],\n",
       "          [ 0.7861,  0.4154,  0.9043,  0.2271,  0.0000,  0.0000],\n",
       "          [ 0.3217,  0.1700,  0.3700,  0.0929,  0.0000,  0.0000],\n",
       "          [ 0.6227,  0.3291,  0.7163,  0.1799,  0.0000,  0.0000],\n",
       "          [ 0.0347,  0.0183,  0.0399,  0.0100,  0.0000,  0.0000]],\n",
       "\n",
       "         [[ 0.0067,  0.3232,  0.2817,  0.0472,  0.0000,  0.0000],\n",
       "          [ 0.0005,  0.0233,  0.0203,  0.0034,  0.0000,  0.0000],\n",
       "          [ 0.0029,  0.1390,  0.1212,  0.0203,  0.0000,  0.0000],\n",
       "          [ 0.0036,  0.1745,  0.1521,  0.0255,  0.0000,  0.0000],\n",
       "          [ 0.0091,  0.4382,  0.3819,  0.0640,  0.0000,  0.0000],\n",
       "          [ 0.0166,  0.8000,  0.6972,  0.1169,  0.0000,  0.0000]]]])"
      ]
     },
     "execution_count": 25,
     "metadata": {},
     "output_type": "execute_result"
    }
   ],
   "source": [
    "test_t"
   ]
  },
  {
   "cell_type": "code",
   "execution_count": 26,
   "metadata": {},
   "outputs": [
    {
     "data": {
      "text/plain": [
       "tensor([[ 0.0226,  0.2561,  0.6823,  0.6058,  0.0000,  0.0000],\n",
       "        [ 0.2949,  0.2708,  0.0844,  0.0444,  0.0000,  0.0000],\n",
       "        [ 0.1997,  0.8482,  0.7500,  0.1840,  0.0000,  0.0000]])"
      ]
     },
     "execution_count": 26,
     "metadata": {},
     "output_type": "execute_result"
    }
   ],
   "source": [
    "F.max_pool1d(test[0], 6).squeeze(2)"
   ]
  },
  {
   "cell_type": "code",
   "execution_count": 27,
   "metadata": {},
   "outputs": [
    {
     "data": {
      "text/plain": [
       "tensor([[[ 0.0226,  0.2561,  0.6823,  0.6058,  0.0000,  0.0000],\n",
       "         [ 0.2949,  0.2708,  0.0844,  0.0444,  0.0000,  0.0000],\n",
       "         [ 0.1997,  0.8482,  0.7500,  0.1840,  0.0000,  0.0000]],\n",
       "\n",
       "        [[ 0.3243,  0.2285,  0.1077,  0.4650,  0.0000,  0.0000],\n",
       "         [ 0.7861,  0.4154,  0.9043,  0.2271,  0.0000,  0.0000],\n",
       "         [ 0.0166,  0.8000,  0.6972,  0.1169,  0.0000,  0.0000]]])"
      ]
     },
     "execution_count": 27,
     "metadata": {},
     "output_type": "execute_result"
    }
   ],
   "source": [
    "F.max_pool2d(test_t, (6, 1)).squeeze(2)"
   ]
  },
  {
   "cell_type": "code",
   "execution_count": 28,
   "metadata": {},
   "outputs": [],
   "source": [
    "max_pool_a = F.max_pool2d(test_t, (6, 1)).squeeze(2)\n",
    "max_pool_b = F.max_pool2d(test, (6, 1)).squeeze(2)"
   ]
  },
  {
   "cell_type": "code",
   "execution_count": 29,
   "metadata": {},
   "outputs": [],
   "source": [
    "a = F.max_pool1d(max_pool_a, max_pool_a.size(2)).squeeze(2)"
   ]
  },
  {
   "cell_type": "code",
   "execution_count": 30,
   "metadata": {},
   "outputs": [
    {
     "data": {
      "text/plain": [
       "tensor([[ 0.6823,  0.2949,  0.8482],\n",
       "        [ 0.4650,  0.9043,  0.8000]])"
      ]
     },
     "execution_count": 30,
     "metadata": {},
     "output_type": "execute_result"
    }
   ],
   "source": [
    "a"
   ]
  },
  {
   "cell_type": "code",
   "execution_count": 31,
   "metadata": {},
   "outputs": [
    {
     "data": {
      "text/plain": [
       "tensor([[ 0.3498,  0.2374,  0.4128],\n",
       "        [ 0.2532,  0.3929,  0.3539]])"
      ]
     },
     "execution_count": 31,
     "metadata": {},
     "output_type": "execute_result"
    }
   ],
   "source": [
    "F.softmax(a, 1)"
   ]
  },
  {
   "cell_type": "code",
   "execution_count": null,
   "metadata": {},
   "outputs": [],
   "source": []
  }
 ],
 "metadata": {
  "kernelspec": {
   "display_name": "Python 3",
   "language": "python",
   "name": "python3"
  },
  "language_info": {
   "codemirror_mode": {
    "name": "ipython",
    "version": 3
   },
   "file_extension": ".py",
   "mimetype": "text/x-python",
   "name": "python",
   "nbconvert_exporter": "python",
   "pygments_lexer": "ipython3",
   "version": "3.6.5"
  }
 },
 "nbformat": 4,
 "nbformat_minor": 2
}
